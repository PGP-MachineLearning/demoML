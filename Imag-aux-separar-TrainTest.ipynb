{
  "nbformat": 4,
  "nbformat_minor": 0,
  "metadata": {
    "colab": {
      "provenance": [],
      "toc_visible": true
    },
    "kernelspec": {
      "name": "python3",
      "display_name": "Python 3"
    }
  },
  "cells": [
    {
      "cell_type": "markdown",
      "metadata": {
        "id": "r6X3sZdb3I7T"
      },
      "source": [
        "# Programa auxiliar para separar imágenes de Entrenamiento y Prueba distribuyendolas al azar"
      ]
    },
    {
      "cell_type": "code",
      "metadata": {
        "id": "NafdiEwq3IMh",
        "cellView": "form"
      },
      "source": [
        "#@title Librerías a usar\n",
        "import os\n",
        "import os.path\n",
        "import numpy as np\n",
        "import shutil\n",
        "\n",
        "print(\"\\nLibrerías importadas\")"
      ],
      "execution_count": null,
      "outputs": []
    },
    {
      "cell_type": "code",
      "metadata": {
        "id": "0pkkaUToGKc7",
        "cellView": "form"
      },
      "source": [
        "#@title Acceder al Drive\n",
        "import os\n",
        "from google.colab import drive\n",
        "drive.mount('/content/gdrive', force_remount=True)\n",
        "\n",
        "# directorio local en Google Drive\n",
        "path = '/content/gdrive/My Drive/IA/demoML/imagenes' #@param {type:\"string\"}\n",
        "path_fuente = '/original'  #@param {type:\"string\"}\n",
        "path_destino_entrenamiento = '/train'  #@param {type:\"string\"}\n",
        "path_destino_prueba = '/test'  #@param {type:\"string\"}\n",
        "\n",
        "imagPath = path + path_fuente\n",
        "imagPath_train = path + path_destino_entrenamiento\n",
        "imagPath_test = path + path_destino_prueba"
      ],
      "execution_count": null,
      "outputs": []
    },
    {
      "cell_type": "code",
      "source": [
        "#@title Levantar carpeta de imágenes a distribuir\n",
        "\n",
        "# procesa los archicos\n",
        "todasImags = {}\n",
        "\n",
        "print(\"Procesando \",imagPath,\"...\\n\")\n",
        "\n",
        "all_dirs = os.listdir( imagPath )\n",
        "for clase in all_dirs:\n",
        "\n",
        "    auxiPath = imagPath + '/' + clase\n",
        "\n",
        "    if os.path.isdir( auxiPath ):\n",
        "      # levanta la lista de imágenes de cada letra\n",
        "      todasImags[clase] = [ fn for fn in os.listdir( auxiPath ) if fn.endswith('.png') or fn.endswith('.jpg') or fn.endswith('.PRN') or fn.endswith('.JPG') or fn.endswith('.png') or fn.endswith('.jpeg') or fn.endswith('.JPEG') ]\n",
        "      # desordena al azar\n",
        "      np.random.shuffle( todasImags[clase] )\n",
        "\n",
        "      print(\"Levanta de \", clase, \": \", len(todasImags[clase]),\" imágenes.\")\n",
        "\n"
      ],
      "metadata": {
        "cellView": "form",
        "id": "9sStnNzjar7P"
      },
      "execution_count": null,
      "outputs": []
    },
    {
      "cell_type": "code",
      "source": [
        "#@title Normaliza cantidades por clase (opcional)\n",
        "unificar_cantid_por_clase = False #@param {type:\"boolean\"}\n",
        "\n",
        "if unificar_cantid_por_clase:\n",
        "  # determina cantidad mínima\n",
        "  min = None\n",
        "  for clase in todasImags.keys():\n",
        "     cantImg = len(todasImags[clase])\n",
        "     if (min is None) or (min > cantImg):\n",
        "       if cantImg>0:\n",
        "          min = cantImg\n",
        "\n",
        "  print(\"Cantidad a unificar: \", min)\n",
        "  print(\"\\n\")\n",
        "  # unifica esa cantidad como mínima\n",
        "  for clase in todasImags.keys():\n",
        "    todasImags[clase] = np.random.choice(todasImags[clase], size=min, replace=False)\n",
        "\n",
        "    print(\"Nueva cantidad de \", clase, \": \", len(todasImags[clase]),\" imágenes.\")\n"
      ],
      "metadata": {
        "cellView": "form",
        "id": "RXyzDO5MfpZ6"
      },
      "execution_count": null,
      "outputs": []
    },
    {
      "cell_type": "code",
      "source": [
        "#@title Determina Cantidades a distribuir\n",
        "\n",
        "porc_Entrenamiento = 80 #@param {type:\"slider\", min:10, max:100, step:1}\n",
        "if porc_Entrenamiento < 10:\n",
        "  porc_Entrenamiento = 10\n",
        "\n",
        "# muestra proporciones a usar\n",
        "for clase in todasImags.keys():\n",
        "  cantImg = len(todasImags[clase])\n",
        "  cantE = ( cantImg * porc_Entrenamiento ) // 100\n",
        "  cantP = cantImg - cantE\n",
        "\n",
        "  print('\\nImágenes de ' , clase, \":\")\n",
        "  print('- Imágenes para Entrenamiento: ', cantE)\n",
        "  print('- Imágenes para Validación: ', cantP)"
      ],
      "metadata": {
        "cellView": "form",
        "id": "TZDa5twUbSHA"
      },
      "execution_count": null,
      "outputs": []
    },
    {
      "cell_type": "code",
      "source": [
        "#@title Mueve archivos para Entrenamiento\n",
        "\n",
        "def moverArchivos(imagPathOrigen_Clase, arFNClase, imagPathDestino_Clase):\n",
        "  cant = 0\n",
        "  for name in arFNClase:\n",
        "      # mueve la imagen\n",
        "      if os.path.isfile(imagPathDestino_Clase + '/' + name):\n",
        "        print(\"**\", name, \" ya existe en \", imagPathDestino_Clase)\n",
        "      else:\n",
        "        shutil.move(imagPathOrigen_Clase + '/' + name, imagPathDestino_Clase)\n",
        "        cant = cant + 1\n",
        "  print(\"\\t\", cant, \" imágenes movidas a \", imagPathDestino_Clase)\n",
        "  return cant\n",
        "\n",
        "\n",
        "# crea directorios, si es necesario\n",
        "if not os.path.isdir(imagPath_train):\n",
        "    os.makedirs(imagPath_train)\n",
        "if not os.path.isdir(imagPath_test):\n",
        "    os.makedirs(imagPath_test)\n",
        "\n",
        "for clase in todasImags.keys():\n",
        "\n",
        "  print(\"> \", clase, \":\")\n",
        "  cantE = 0\n",
        "  cantP = 0\n",
        "  # crea subdirectorios, si es necesario\n",
        "  imagpathOrigenClase = imagPath + '/' + clase\n",
        "  imagPath_trainClase = imagPath_train + '/' + clase\n",
        "  imagPath_testClase = imagPath_test + '/' + clase\n",
        "  if not os.path.isdir(imagPath_trainClase):\n",
        "      os.makedirs(imagPath_trainClase)\n",
        "  if not os.path.isdir(imagPath_testClase):\n",
        "      os.makedirs(imagPath_testClase)\n",
        "\n",
        "  # determina cantidades\n",
        "  arImgsFN = np.array(todasImags[clase])\n",
        "  cantImg = len(todasImags[clase])\n",
        "  cantE = ( cantImg * porc_Entrenamiento ) // 100\n",
        "  #cantP = cantImg - cantE\n",
        "\n",
        "  # separa\n",
        "  train_FileNames, test_FileNames = np.split(arImgsFN, [cantE])\n",
        "\n",
        "  # mueve imágenes\n",
        "  moverArchivos(imagpathOrigenClase, train_FileNames, imagPath_trainClase)\n",
        "  moverArchivos(imagpathOrigenClase, test_FileNames, imagPath_testClase)\n"
      ],
      "metadata": {
        "cellView": "form",
        "id": "AflGJPQAbEya"
      },
      "execution_count": null,
      "outputs": []
    },
    {
      "cell_type": "code",
      "metadata": {
        "id": "FzwO_YkHAO_Z",
        "cellView": "form"
      },
      "source": [
        "#@title Fuerza actualización del drive (sino no aparecen los nuevos archivos)\n",
        "drive.flush_and_unmount()\n",
        "drive.mount('/content/gdrive', force_remount=True)"
      ],
      "execution_count": null,
      "outputs": []
    },
    {
      "cell_type": "code",
      "metadata": {
        "id": "xuISnvHxkntL",
        "cellView": "form"
      },
      "source": [
        "#@title Muestra nuevas cantidades\n",
        "def contarImagenes(imagPath):\n",
        "\n",
        "  print(\"\\n\\n> procesando \", imagPath, \": \")\n",
        "\n",
        "  # procesa los subdirectorios con las imágenes\n",
        "  all_dirs = os.listdir( imagPath )\n",
        "  for each_dir in all_dirs:\n",
        "\n",
        "    auxiPath = imagPath + '/' + each_dir\n",
        "\n",
        "    # obtiene la cantidad de imágenes disponibles\n",
        "    cantImagDir = len(os.listdir( auxiPath ))\n",
        "\n",
        "    print(\"  -- \", auxiPath, \": tiene \", cantImagDir, \" imágenes.\")\n",
        "\n",
        "# realiza conteo\n",
        "contarImagenes(imagPath_train)\n",
        "contarImagenes(imagPath_test)"
      ],
      "execution_count": null,
      "outputs": []
    }
  ]
}